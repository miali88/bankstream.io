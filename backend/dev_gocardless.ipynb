{
 "cells": [
  {
   "cell_type": "code",
   "execution_count": 2,
   "metadata": {},
   "outputs": [
    {
     "name": "stdout",
     "output_type": "stream",
     "text": [
      "GOCARDLESS_CLIENT_ID and GOCARDLESS_CLIENT_SECRET are set\n",
      "Response:\n",
      "[{'id': 'ABANCA_CAGLPTPL', 'name': 'Abanca', 'bic': 'CAGLPTPL', 'transaction_total_days': '90', 'countries': ['PT'], 'logo': 'https://cdn-logos.gocardless.com/ais/ABANCA_CAGLESMM.png', 'max_access_valid_for_days': '180'}, {'id': 'ABANCA_CORP_CAGLPTPL', 'name': 'Abanca Corporate', 'bic': 'CAGLPTPL', 'transaction_total_days': '90', 'countries': ['PT'], 'logo': 'https://cdn-logos.gocardless.com/ais/ABANCA_CAGLESMM.png', 'max_access_valid_for_days': '180'}, {'id': 'AIRWALLEX_AIPTAU32', 'name': 'Airwallex', 'bic': 'AIPTAU32', 'transaction_total_days': '730', 'countries': ['PL', 'IS', 'NO', 'ES', 'DK', 'SK', 'FR', 'MT', 'BE', 'SE', 'SI', 'LT', 'LI', 'LU', 'PT', 'BG', 'GB', 'NL', 'HU', 'IT', 'CY', 'RO', 'LV', 'DE', 'AT', 'HR', 'IE', 'CZ', 'EE', 'GR', 'FI'], 'logo': 'https://cdn-logos.gocardless.com/ais/AIRWALLEX_AIPTAU32_1.png', 'max_access_valid_for_days': '90'}, {'id': 'BANCOACTIVOBANK_ACTVPTPL', 'name': 'Banco ActivoBank', 'bic': 'ACTVPTPL', 'transaction_total_days': '90', 'countries': ['PT'], 'logo': 'https://cdn-logos.gocardless.com/ais/BANCOACTIVOBANK_ACTVPTPL.png', 'max_access_valid_for_days': '180'}, {'id': 'BANCO_ATLANTICO_BAPAPTPL', 'name': 'Banco Atlantico Europa', 'bic': 'BAPAPTPL', 'transaction_total_days': '90', 'countries': ['PT'], 'logo': 'https://cdn-logos.gocardless.com/ais/BANCO_ATLANTICO_BAPAPTPL.png', 'max_access_valid_for_days': '180'}, {'id': 'BANCOBPI_BBPIPTPL', 'name': 'Banco BPI', 'bic': 'BBPIPTPL', 'transaction_total_days': '90', 'countries': ['PT'], 'logo': 'https://cdn-logos.gocardless.com/ais/BANCOBPI_BBPIPTPL.png', 'max_access_valid_for_days': '180'}, {'id': 'CARREGOSA_BLJCPTPT', 'name': 'Banco Carregosa', 'bic': 'BLJCPTPT', 'transaction_total_days': '90', 'countries': ['PT'], 'logo': 'https://cdn-logos.gocardless.com/ais/CARREGOSA_BLJCPTPT.png', 'max_access_valid_for_days': '180'}, {'id': 'BIG_BDIGPTPL', 'name': 'Banco de Investimento Global', 'bic': 'BDIGPTPL', 'transaction_total_days': '90', 'countries': ['PT'], 'logo': 'https://cdn-logos.gocardless.com/ais/_BIGES_IGSEESMM.png', 'max_access_valid_for_days': '180'}, {'id': 'BANCO_PORTUGUES_DE_GESTAO_BPGPPTPL', 'name': 'Banco Portugues de Gestao', 'bic': 'BPGPPTPL', 'transaction_total_days': '90', 'countries': ['PT'], 'logo': 'https://cdn-logos.gocardless.com/ais/BANCO_PORTUGUES_DE_GESTAO_BPGPPTPL.png', 'max_access_valid_for_days': '180'}, {'id': 'SANTANDER_PT_TOTAPTPL', 'name': 'Banco Santander', 'bic': 'TOTAPTPL', 'transaction_total_days': '90', 'countries': ['PT'], 'logo': 'https://cdn-logos.gocardless.com/ais/SANTANDER_PT_TOTAPTPL.png', 'max_access_valid_for_days': '180'}, {'id': 'BANKINTER_BKBKPTPL', 'name': 'Bankinter', 'bic': 'BKBKPTPL', 'transaction_total_days': '90', 'countries': ['PT'], 'logo': 'https://cdn-logos.gocardless.com/ais/BANKINTER_BKBKPTPL.png', 'max_access_valid_for_days': '180'}, {'id': 'BBVAPT_BBVAPTPL', 'name': 'BBVA', 'bic': 'BBVAPTPL', 'transaction_total_days': '730', 'countries': ['PT'], 'logo': 'https://cdn-logos.gocardless.com/ais/BBVABE_BBVABEBB.png', 'max_access_valid_for_days': '180'}, {'id': 'BUNQ_BUNQNL2A', 'name': 'bunq', 'bic': 'BUNQNL2A', 'transaction_total_days': '730', 'countries': ['FR', 'GR', 'NO', 'EE', 'FI', 'AT', 'CY', 'LU', 'NL', 'CZ', 'SE', 'MT', 'HU', 'BG', 'PT', 'DK', 'HR', 'IE', 'LI', 'SK', 'ES', 'IT', 'SI', 'IS', 'DE', 'RO', 'BE'], 'logo': 'https://storage.googleapis.com/gc-prd-institution_icons-production/DE/PNG/bunq.png', 'max_access_valid_for_days': '180'}, {'id': 'CAIXA_CENTRAL_DE_CREDITO_AGRICOLA_CCCMPTPL', 'name': 'Caixa Central de Credito Agricola Mutuo', 'bic': 'CCCMPTPL', 'transaction_total_days': '90', 'countries': ['PT'], 'logo': 'https://cdn-logos.gocardless.com/ais/CAIXA_CENTRAL_DE_CREDITO_AGRICOLA_CCCMPTPL.png', 'max_access_valid_for_days': '180'}, {'id': 'CAIXA_DE_CREDITO_AGRICOLA_MUTUO_DA_CHAMUSCA_CCCHPTP1', 'name': 'Caixa De Credito Agricola Mutuo Da Chamusca', 'bic': 'CCCHPTP1', 'transaction_total_days': '90', 'countries': ['PT'], 'logo': 'https://cdn-logos.gocardless.com/ais/CAIXA_DE_CREDITO_AGRICOLA_MUTUO_DA_CHAMUSCA_CCCHPTP1.png', 'max_access_valid_for_days': '180'}, {'id': 'CAIXA_AGRICOLA_BOMBARRAL_CERTPTP1', 'name': 'Caixa De Credito Agricola Mutuo De Bombarral', 'bic': 'CERTPTP1', 'transaction_total_days': '90', 'countries': ['PT'], 'logo': 'https://cdn-logos.gocardless.com/ais/CAIXA_AGRICOLA_BOMBARRAL_CERTPTP1.png', 'max_access_valid_for_days': '180'}, {'id': 'CAIXA_DE_CREDITO_AGRICOLA_MUTUO_DE_LEIRIA_CDCTPTP2', 'name': 'Caixa de Credito Agricola Mutuo de Leiria', 'bic': 'CDCTPTP2', 'transaction_total_days': '90', 'countries': ['PT'], 'logo': 'https://cdn-logos.gocardless.com/ais/CAIXA_DE_CREDITO_AGRICOLA_MUTUO_DE_LEIRIA_CDCTPTP2.png', 'max_access_valid_for_days': '180'}, {'id': 'CAIXA_AGRICOLA_TORRES_VEDRAS_CTIUPTP1', 'name': 'Caixa De Credito Agricola Mutuo De Torres Vedras', 'bic': 'CTIUPTP1', 'transaction_total_days': '90', 'countries': ['PT'], 'logo': 'https://cdn-logos.gocardless.com/ais/CAIXA_AGRICOLA_TORRES_VEDRAS_CTIUPTP1.png', 'max_access_valid_for_days': '180'}, {'id': 'CAIXA_ECONOMICA_DA_MISERICORDIA_CEMAPTP2', 'name': 'Caixa Economica da Misericordia de Angra do Heroismo', 'bic': 'CEMAPTP2', 'transaction_total_days': '90', 'countries': ['PT'], 'logo': 'https://cdn-logos.gocardless.com/ais/CAIXA_ECONOMICA_DA_MISERICORDIA_CEMAPTP2.png', 'max_access_valid_for_days': '180'}, {'id': 'MONTEPIO_MPIOPTPL', 'name': 'Caixa Economica Montepio Geral', 'bic': 'MPIOPTPL', 'transaction_total_days': '90', 'countries': ['PT'], 'logo': 'https://cdn-logos.gocardless.com/ais/MONTEPIO_MPIOPTPL.png', 'max_access_valid_for_days': '180'}, {'id': 'CAIXA_GERAL_DEPOSITOS_CGDIPTPL', 'name': 'Caixa Geral De Depositos', 'bic': 'CGDIPTPL', 'transaction_total_days': '90', 'countries': ['PT'], 'logo': 'https://cdn-logos.gocardless.com/ais/CAIXA_GERAL_DEPOSITOS_CGDIPTPL.png', 'max_access_valid_for_days': '180'}, {'id': 'CETELEM_CETMPTP1XXX', 'name': 'Cetelem', 'bic': 'CETMPTP1XXX', 'transaction_total_days': '365', 'countries': ['PT'], 'logo': 'https://cdn-logos.gocardless.com/ais/CETELEM_CETMPTP1XXX.png', 'max_access_valid_for_days': '180'}, {'id': 'COFIDIS_CFFIPTP1', 'name': 'COFIDIS', 'bic': 'CFFIPTP1', 'transaction_total_days': '90', 'countries': ['PT'], 'logo': 'https://cdn-logos.gocardless.com/ais/COFIDIS_CFFIPTP1.png', 'max_access_valid_for_days': '180'}, {'id': 'EBURY_EBPNPTP1XXX', 'name': 'Ebury', 'bic': 'EBPNPTP1XXX', 'transaction_total_days': '180', 'countries': ['PT'], 'logo': 'https://storage.googleapis.com/gc-prd-institution_icons-production/FR/PNG/ebury.png', 'max_access_valid_for_days': '180'}, {'id': 'EUROBIC_BPNPPTPL', 'name': 'EuroBic', 'bic': 'BPNPPTPL', 'transaction_total_days': '90', 'countries': ['PT'], 'logo': 'https://cdn-logos.gocardless.com/ais/EUROBIC_BPNPPTPL.png', 'max_access_valid_for_days': '180'}, {'id': 'FINOM_FNOMDEB2', 'name': 'Finom', 'bic': 'FNOMDEB2', 'transaction_total_days': '365', 'countries': ['PL', 'IS', 'NO', 'ES', 'DK', 'SK', 'FR', 'MT', 'BE', 'SE', 'SI', 'LT', 'LI', 'LU', 'PT', 'BG', 'GB', 'NL', 'HU', 'IT', 'CY', 'RO', 'LV', 'DE', 'AT', 'HR', 'IE', 'CZ', 'EE', 'GR', 'FI'], 'logo': 'https://cdn-logos.gocardless.com/ais/FINOM_SOBKDEBB.png', 'max_access_valid_for_days': '180'}, {'id': 'HSBC_NET_HSBCIE2D', 'name': 'HSBCnet', 'bic': 'HSBCIE2DXXX', 'transaction_total_days': '730', 'countries': ['NO', 'SE', 'FI', 'DK', 'EE', 'LV', 'LT', 'NL', 'CZ', 'ES', 'PL', 'BE', 'DE', 'AT', 'BG', 'HR', 'CY', 'FR', 'GR', 'HU', 'IS', 'IE', 'IT', 'LI', 'LU', 'MT', 'PT', 'RO', 'SK', 'SI'], 'logo': 'https://storage.googleapis.com/gc-prd-institution_icons-production/UK/PNG/hsbcpersonal.png', 'max_access_valid_for_days': '180'}, {'id': 'ING_WB_INGBNL2A', 'name': 'ING Wholesale Banking', 'bic': 'INGBNL2AXXX', 'transaction_total_days': '540', 'countries': ['FR', 'HU', 'BG', 'PT', 'IE', 'SK', 'ES', 'IT', 'AT', 'LU', 'NL', 'CZ', 'DE', 'RO', 'BE', 'GB'], 'logo': 'https://storage.googleapis.com/gc-prd-institution_icons-production/DE/PNG/ing.png', 'max_access_valid_for_days': '180'}, {'id': 'LUNAR_LUNADK22', 'name': 'Lunar', 'bic': 'LUNADK22', 'transaction_total_days': '90', 'countries': ['PL', 'IS', 'NO', 'ES', 'DK', 'SK', 'FR', 'MT', 'BE', 'SE', 'SI', 'LT', 'LI', 'LU', 'PT', 'BG', 'GB', 'NL', 'HU', 'IT', 'CY', 'RO', 'LV', 'DE', 'AT', 'HR', 'IE', 'CZ', 'EE', 'GR', 'FI'], 'logo': 'https://cdn-logos.gocardless.com/ais/LUNAR_LUNADK22.png', 'max_access_valid_for_days': '180'}, {'id': 'MILLENIUMBCP_BCOMPTPL', 'name': 'Millennium BCP', 'bic': 'BCOMPTPL', 'transaction_total_days': '90', 'countries': ['PT'], 'logo': 'https://cdn-logos.gocardless.com/ais/MILLENIUMBCP_BCOMPTPL.png', 'max_access_valid_for_days': '180'}, {'id': 'MONESE_MNEEBEB2', 'name': 'Monese', 'bic': 'MNEEBEB2', 'transaction_total_days': '730', 'countries': ['NO', 'SE', 'FI', 'DK', 'EE', 'LV', 'LT', 'NL', 'CZ', 'ES', 'PL', 'BE', 'DE', 'AT', 'BG', 'HR', 'CY', 'FR', 'GR', 'HU', 'IS', 'IE', 'IT', 'LI', 'LU', 'MT', 'PT', 'RO', 'SK', 'SI'], 'logo': 'https://storage.googleapis.com/gc-prd-institution_icons-production/FR/PNG/monese.png', 'max_access_valid_for_days': '180'}, {'id': 'N26_NTSBDEB1', 'name': 'N26 Bank', 'bic': 'NTSBDEB1XXX', 'transaction_total_days': '730', 'countries': ['PL', 'IS', 'NO', 'ES', 'DK', 'SK', 'FR', 'MT', 'BE', 'SE', 'SI', 'LT', 'LI', 'LU', 'PT', 'BG', 'GB', 'NL', 'HU', 'IT', 'CY', 'RO', 'LV', 'DE', 'AT', 'HR', 'IE', 'CZ', 'EE', 'GR', 'FI'], 'logo': 'https://storage.googleapis.com/gc-prd-institution_icons-production/DE/PNG/n26.png', 'max_access_valid_for_days': '180'}, {'id': 'PAYSAFE_NETEGB21', 'name': 'Neteller', 'bic': 'NETEGB21', 'transaction_total_days': '730', 'countries': ['PL', 'IS', 'NO', 'ES', 'DK', 'SK', 'FR', 'MT', 'BE', 'SE', 'SI', 'LT', 'LI', 'LU', 'PT', 'BG', 'GB', 'NL', 'HU', 'IT', 'CY', 'RO', 'LV', 'DE', 'AT', 'HR', 'IE', 'CZ', 'EE', 'GR', 'FI'], 'logo': 'https://cdn-logos.gocardless.com/ais/PAYSAFE_NETEGB21.png', 'max_access_valid_for_days': '180'}, {'id': 'NICKEL_FPELFR21', 'name': 'Nickel Beta', 'bic': 'FPELFR21', 'transaction_total_days': '90', 'countries': ['FR', 'PT', 'ES', 'DE', 'BE'], 'logo': 'https://cdn-logos.gocardless.com/ais/NICKEL_FPELFR21.png', 'max_access_valid_for_days': '180'}, {'id': 'NOVOBANCO_BESCPTPL', 'name': 'Novo Banco', 'bic': 'BESCPTPL', 'transaction_total_days': '90', 'countries': ['PT'], 'logo': 'https://cdn-logos.gocardless.com/ais/NOVOBANCO_BESCPTPL.png', 'max_access_valid_for_days': '180'}, {'id': 'NOVOBANCO_ACORES_BESAPTPA', 'name': 'Novo Banco Dos Açores', 'bic': 'BESAPTPA', 'transaction_total_days': '90', 'countries': ['PT'], 'logo': 'https://cdn-logos.gocardless.com/ais/NOVOBANCO_ACORES_BESAPTPA.png', 'max_access_valid_for_days': '180'}, {'id': 'PAYPAL_PPLXLULL', 'name': 'PayPal', 'bic': 'PPLXLULLXXX', 'transaction_total_days': '90', 'countries': ['PL', 'IS', 'NO', 'ES', 'DK', 'SK', 'FR', 'MT', 'BE', 'SE', 'SI', 'LT', 'LI', 'LU', 'PT', 'BG', 'GB', 'NL', 'HU', 'IT', 'CY', 'RO', 'LV', 'DE', 'AT', 'HR', 'IE', 'CZ', 'EE', 'GR', 'FI'], 'logo': 'https://cdn-logos.gocardless.com/ais/PAYPAL_PPLXLULL.png', 'max_access_valid_for_days': '180'}, {'id': 'PAYSERA_EVIULT21XXX', 'name': 'Paysera', 'bic': 'EVIULT21XXX', 'transaction_total_days': '90', 'countries': ['PL', 'IS', 'NO', 'ES', 'DK', 'SK', 'FR', 'MT', 'BE', 'SE', 'SI', 'LT', 'LI', 'LU', 'PT', 'BG', 'GB', 'NL', 'HU', 'IT', 'CY', 'RO', 'LV', 'DE', 'AT', 'HR', 'IE', 'CZ', 'EE', 'GR', 'FI'], 'logo': 'https://storage.googleapis.com/gc-prd-institution_icons-production/UK/PNG/paysera.png', 'max_access_valid_for_days': '180'}, {'id': 'REVOLUT_REVOLT21', 'name': 'Revolut', 'bic': 'REVOLT21XXX', 'transaction_total_days': '730', 'countries': ['NO', 'SE', 'FI', 'DK', 'EE', 'LV', 'LT', 'NL', 'CZ', 'ES', 'PL', 'BE', 'DE', 'AT', 'BG', 'HR', 'CY', 'FR', 'GR', 'HU', 'IS', 'IE', 'IT', 'LI', 'LU', 'MT', 'PT', 'RO', 'SK', 'SI'], 'logo': 'https://storage.googleapis.com/gc-prd-institution_icons-production/UK/PNG/revolut.png', 'max_access_valid_for_days': '180'}, {'id': 'PAYSAFE_SKRLGB2L', 'name': 'Skrill', 'bic': 'SKRLGB2L', 'transaction_total_days': '730', 'countries': ['PL', 'IS', 'NO', 'ES', 'DK', 'SK', 'FR', 'MT', 'BE', 'SE', 'SI', 'LT', 'LI', 'LU', 'PT', 'BG', 'GB', 'NL', 'HU', 'IT', 'CY', 'RO', 'LV', 'DE', 'AT', 'HR', 'IE', 'CZ', 'EE', 'GR', 'FI'], 'logo': 'https://cdn-logos.gocardless.com/ais/PAYSAFE_SKRLGB2L.png', 'max_access_valid_for_days': '180'}, {'id': 'SOLDO_SFSDIE22', 'name': 'Soldo', 'bic': 'SFSDIE22', 'transaction_total_days': '730', 'countries': ['NO', 'SE', 'FI', 'DK', 'EE', 'LV', 'LT', 'NL', 'CZ', 'ES', 'PL', 'BE', 'DE', 'AT', 'BG', 'HR', 'CY', 'FR', 'GR', 'HU', 'IS', 'IE', 'IT', 'LI', 'LU', 'MT', 'PT', 'RO', 'SK', 'SI'], 'logo': 'https://cdn-logos.gocardless.com/ais/SOLDO_SFSDIE22.png', 'max_access_valid_for_days': '180'}, {'id': 'STRIPE_STPUIE21', 'name': 'Stripe', 'bic': 'STPUIE21', 'transaction_total_days': '730', 'countries': ['PL', 'IS', 'NO', 'ES', 'DK', 'SK', 'FR', 'MT', 'BE', 'SE', 'SI', 'LT', 'LI', 'LU', 'PT', 'BG', 'GB', 'NL', 'HU', 'IT', 'CY', 'RO', 'LV', 'DE', 'AT', 'HR', 'IE', 'CZ', 'EE', 'GR', 'FI'], 'logo': 'https://cdn-logos.gocardless.com/ais/STRIPE_STPUIE21.png', 'max_access_valid_for_days': '180'}, {'id': 'SWAN_SWNBFR22', 'name': 'Swan', 'bic': 'SWNBFR22', 'transaction_total_days': '90', 'countries': ['NO', 'SE', 'FI', 'DK', 'EE', 'LV', 'LT', 'NL', 'CZ', 'ES', 'PL', 'BE', 'DE', 'AT', 'BG', 'HR', 'CY', 'FR', 'GR', 'HU', 'IS', 'IE', 'IT', 'LI', 'LU', 'MT', 'PT', 'RO', 'SK', 'SI'], 'logo': 'https://storage.googleapis.com/gc-prd-institution_icons-production/EEA/PNG/swan.png', 'max_access_valid_for_days': '180'}, {'id': 'UNICRE_UIFCPTP1XXX', 'name': 'Unicre - Instituição Financeira de Crédito', 'bic': 'UIFCPTP1XXX', 'transaction_total_days': '90', 'countries': ['PT'], 'logo': 'https://cdn-logos.gocardless.com/ais/UNICRE_UIFCPTP1XXX.png', 'max_access_valid_for_days': '180'}, {'id': 'VIVID_VVIDLUL2', 'name': 'Vivid Money', 'bic': 'VVIDLUL2', 'transaction_total_days': '90', 'countries': ['NO', 'SE', 'FI', 'DK', 'EE', 'LV', 'LT', 'NL', 'CZ', 'ES', 'PL', 'BE', 'DE', 'AT', 'BG', 'HR', 'CY', 'FR', 'GR', 'HU', 'IS', 'IE', 'IT', 'LI', 'LU', 'MT', 'PT', 'RO', 'SK', 'SI'], 'logo': 'https://cdn-logos.gocardless.com/ais/VIVIDMONEY_SOBKDEB2.png', 'max_access_valid_for_days': '180'}, {'id': 'WISE_TRWIGB22', 'name': 'Wise', 'bic': 'TRWIGB22XXX', 'transaction_total_days': '730', 'countries': ['PL', 'IS', 'NO', 'ES', 'DK', 'SK', 'FR', 'MT', 'BE', 'SE', 'SI', 'LT', 'LI', 'LU', 'PT', 'BG', 'GB', 'NL', 'HU', 'IT', 'CY', 'RO', 'LV', 'DE', 'AT', 'HR', 'IE', 'CZ', 'EE', 'GR', 'FI'], 'logo': 'https://storage.googleapis.com/gc-prd-institution_icons-production/UK/PNG/wise.png', 'max_access_valid_for_days': '90'}]\n"
     ]
    }
   ],
   "source": [
    "import requests\n",
    "from dotenv import load_dotenv\n",
    "import os\n",
    "load_dotenv()\n",
    "\n",
    "GOCARDLESS_CLIENT_ID = os.getenv('GOCARDLESS_CLIENT_ID')\n",
    "GOCARDLESS_CLIENT_SECRET = os.getenv('GOCARDLESS_CLIENT_SECRET')\n",
    "if not GOCARDLESS_CLIENT_ID or not GOCARDLESS_CLIENT_SECRET:\n",
    "    raise ValueError('GOCARDLESS_CLIENT_ID and GOCARDLESS_CLIENT_SECRET must be set')\n",
    "else:\n",
    "    print('GOCARDLESS_CLIENT_ID and GOCARDLESS_CLIENT_SECRET are set')\n",
    "\n",
    "\n",
    "''' STEP 1 - ACCESS TOKEN '''\n",
    "# GoCardless OAuth endpoint for obtaining access tokens\n",
    "AUTH_URL = 'https://bankaccountdata.gocardless.com/api/v2/token/new/'\n",
    "\n",
    "\n",
    "def get_access_token():\n",
    "    # Data to be sent in the POST request\n",
    "    data = {\n",
    "        \"secret_id\": GOCARDLESS_CLIENT_ID,\n",
    "        \"secret_key\": GOCARDLESS_CLIENT_SECRET\n",
    "    }\n",
    "\n",
    "    # Making the POST request to obtain the access token\n",
    "    response = requests.post(AUTH_URL, json=data)\n",
    "    response.raise_for_status()  # Raise exception for non-200 responses\n",
    "\n",
    "    # Parsing the JSON response\n",
    "    access_token = response.json()\n",
    "    return access_token\n",
    "\n",
    "access_token = get_access_token()['access']\n",
    "\n",
    "''' END USER SELECTING A BANK '''\n",
    "\"https://github.com/nordigen/nordigen-bank-ui\"\n",
    "\n",
    "url = \"https://bankaccountdata.gocardless.com/api/v2/institutions/\"\n",
    "params = {\n",
    "    \"country\": \"PT\"\n",
    "}\n",
    "headers = {\n",
    "    \"accept\": \"application/json\",\n",
    "    \"Authorization\": f\"Bearer {access_token}\"  # Replace ACCESS_TOKEN with your actual access token\n",
    "}\n",
    "\n",
    "list_of_banks = requests.get(url, headers=headers, params=params)\n",
    "\n",
    "if list_of_banks.status_code == 200:\n",
    "    list_of_banks = list_of_banks.json()\n",
    "    print(\"Response:\")\n",
    "    print(list_of_banks)\n",
    "else:\n",
    "    print(\"Error:\", list_of_banks.text)\n",
    "    list_of_banks.raise_for_status()  # Raise exception for non-200 responses\n"
   ]
  },
  {
   "cell_type": "code",
   "execution_count": null,
   "metadata": {},
   "outputs": [],
   "source": [
    "def extract_schema(json_list):\n",
    "    \"\"\"\n",
    "    Extract schema from a list of dictionaries, showing all possible keys and their data types\n",
    "    \n",
    "    Args:\n",
    "        json_list (list): List of dictionaries\n",
    "    \n",
    "    Returns:\n",
    "        dict: Schema showing keys and their possible data types\n",
    "    \"\"\"\n",
    "    schema = {}\n",
    "    \n",
    "    # Handle single dictionary case\n",
    "    if isinstance(json_list, dict):\n",
    "        json_list = [json_list]\n",
    "    \n",
    "    for item in json_list:\n",
    "        for key, value in item.items():\n",
    "            # Get the type of the value\n",
    "            value_type = type(value).__name__\n",
    "            \n",
    "            # If key exists, add new type if different\n",
    "            if key in schema:\n",
    "                if value_type not in schema[key]:\n",
    "                    schema[key].append(value_type)\n",
    "            else:\n",
    "                schema[key] = [value_type]\n",
    "    \n",
    "    return schema\n"
   ]
  },
  {
   "cell_type": "code",
   "execution_count": null,
   "metadata": {},
   "outputs": [],
   "source": [
    "''' STEP 3 - CREATE END USER AGREEMENT '''\n",
    "# API endpoint\n",
    "url = \"https://bankaccountdata.gocardless.com/api/v2/agreements/enduser/\"\n",
    "\n",
    "# Headers\n",
    "headers = {\n",
    "    \"Authorization\": f\"Bearer {access_token}\"\n",
    "}\n",
    "\n",
    "INSTITUTION_ID = \"NATWEST_NWBKGB2L\"\n",
    "# Data\n",
    "data = {\n",
    "    \"institution_id\": INSTITUTION_ID,\n",
    "    \"max_historical_days\": \"730\",\n",
    "    \"access_valid_for_days\": \"30\",\n",
    "    \"access_scope\": [\"balances\", \"details\", \"transactions\"]\n",
    "}\n",
    "\n",
    "# Make POST request\n",
    "try:\n",
    "    response = requests.post(url, json=data, headers=headers)\n",
    "    response.raise_for_status()  # Raise exception for non-200 responses\n",
    "    result = response.json()\n",
    "    print(result)\n",
    "except requests.exceptions.RequestException as e:\n",
    "    print(f\"Error making POST request: {e}\")\n",
    "\n",
    "''' STEP 4 - BUILD A LINK '''\n",
    "import random\n",
    "def generate_random_id():\n",
    "    return ''.join(random.choices('0123456789', k=21))\n",
    "random_id = generate_random_id()\n",
    "\n",
    "url = \"https://bankaccountdata.gocardless.com/api/v2/requisitions/\"\n",
    "headers = {\n",
    "    \"accept\": \"application/json\",\n",
    "    \"Content-Type\": \"application/json\",\n",
    "    \"Authorization\": f\"Bearer {access_token}\"  # Replace ACCESS_TOKEN with your actual access token\n",
    "}\n",
    "data = {\n",
    "    #\"redirect\": \"https://michaelalilondon.bubbleapps.io/version-test\",\n",
    "    \"redirect\": \"http://localhost:3001/gocardless/callback\",\n",
    "    \"institution_id\": result['institution_id'],\n",
    "    \"reference\": random_id,\n",
    "    \"agreement\": result['id'],\n",
    "    \"user_language\": \"EN\"\n",
    "}\n",
    "response = requests.post(url, headers=headers, json=data)\n",
    "response.json()"
   ]
  },
  {
   "cell_type": "code",
   "execution_count": null,
   "metadata": {},
   "outputs": [],
   "source": [
    "\"\"\" ONCE USER HAS BEEN REDIRECTED TO OUR SITE, WE CAN FETCH THEIR ACCOUNTS \"\"\"\n",
    "''' Fetch accounts for given requisition '''\n",
    "req = \"ece1a3fe-0db2-409b-8ab8-c2bdb1897761\"\n",
    "url = f\"https://bankaccountdata.gocardless.com/api/v2/requisitions/{req}\"\n",
    "\n",
    "response = requests.get(url, headers=headers)\n",
    "response.json()\n",
    "\n",
    "\"\"\" THEN LOOP THROUGH ACCOUNTS LIST AND GET TRANSACTIONS FOR EACH ACCOUNT \"\"\"\n",
    "accounts = response.json()['accounts']\n",
    "\n",
    "for account in accounts:\n",
    "    url = f\"https://bankaccountdata.gocardless.com/api/v2/accounts/{account}/transactions/\"\n",
    "    accounts_transactions = requests.get(url, headers=headers)\n",
    "\n",
    "\n"
   ]
  },
  {
   "cell_type": "code",
   "execution_count": 58,
   "metadata": {},
   "outputs": [],
   "source": [
    "def transform_transactions(transactions):\n",
    "    for transaction in transactions:\n",
    "        # Extract currency and amount from transactionAmount\n",
    "        currency = transaction['transactionAmount']['currency']\n",
    "        # Convert amount to integer (assuming amount is a string like \"10.50\")\n",
    "        amount_str = transaction['transactionAmount']['amount']\n",
    "        # Remove decimal point and convert to integer (e.g., \"10.50\" becomes 1050)\n",
    "        amount = int(float(amount_str) * 100)\n",
    "        \n",
    "        # Add new fields\n",
    "        transaction['currency'] = currency\n",
    "        transaction['amount'] = amount\n",
    "        \n",
    "        # Remove original transactionAmount field\n",
    "        del transaction['transactionAmount']\n",
    "    \n",
    "    return transactions"
   ]
  },
  {
   "cell_type": "code",
   "execution_count": null,
   "metadata": {},
   "outputs": [],
   "source": [
    "''' STEP 5 - LIST ACCOUNTS '''\n",
    "\n",
    "url = f\"https://bankaccountdata.gocardless.com/api/v2/requisitions/\"\n",
    "\n",
    "response = requests.get(url, headers=headers)\n",
    "response.json()"
   ]
  },
  {
   "cell_type": "code",
   "execution_count": null,
   "metadata": {},
   "outputs": [],
   "source": [
    "schema = extract_schema(transactions)\n"
   ]
  },
  {
   "cell_type": "code",
   "execution_count": null,
   "metadata": {},
   "outputs": [],
   "source": [
    "\"\"\" agreement endpoint, takes agreement id \"\"\"\n",
    "dot = \"51880436-ed52-4274-9139-959dac2bdd8f\"\n",
    "\n",
    "### accounts endpoint takes account id. \n",
    "url = f\"https://bankaccountdata.gocardless.com/api/v2/agreements/enduser/{dot}/\"\n",
    "\n",
    "headers = {\n",
    "    \"accept\": \"application/json\",\n",
    "    \"Authorization\": f\"Bearer {access_token}\"  # Replace ACCESS_TOKEN with your actual access token\n",
    "}\n",
    "\n",
    "response = requests.get(url, headers=headers)\n",
    "\n",
    "response.json()\n"
   ]
  },
  {
   "cell_type": "markdown",
   "metadata": {},
   "source": [
    "### Get transaction data"
   ]
  },
  {
   "cell_type": "code",
   "execution_count": 12,
   "metadata": {},
   "outputs": [
    {
     "name": "stdout",
     "output_type": "stream",
     "text": [
      "Response:\n",
      "{'id': '81451d40-c0fb-4524-9ef0-7b36f7b2cc50', 'created': '2025-02-10T23:19:24.348623Z', 'last_accessed': '2025-02-16T16:12:25.350912Z', 'iban': 'GB46NWBK60026010327118', 'institution_id': 'NATWEST_NWBKGB2L', 'status': 'READY', 'owner_name': 'CRESCENT ADVISORS LT', 'bban': '60026010327118'}\n"
     ]
    }
   ],
   "source": [
    "requsitions = {\n",
    "    \"barclays\": \"881a82f5-9c82-4476-a88f-34921f0f5c9c\",\n",
    "    \"natwest\": \"e1849ee0-6146-4cb8-8f16-a80c1eba6bca\",\n",
    "}\n",
    "\n",
    "\"\"\" new account ids are issued with each new requisition \"\"\"\n",
    "natwest_accounts = [\n",
    "    '81451d40-c0fb-4524-9ef0-7b36f7b2cc50']\n",
    "\n",
    "barclays_accounts = [\n",
    "    'd318a85e-58c1-4249-87a2-058bb817c070',\n",
    "    'f9ee4378-ecc9-45c6-aedc-d982a7329072']\n",
    "\n",
    "### accounts endpoint takes account id. \n",
    "url = f\"https://bankaccountdata.gocardless.com/api/v2/accounts/{natwest_accounts[0]}\"\n",
    "\n",
    "headers = {\n",
    "    \"accept\": \"application/json\",\n",
    "    \"Authorization\": f\"Bearer {access_token}\"  # Replace ACCESS_TOKEN with your actual access token\n",
    "}\n",
    "\n",
    "response = requests.get(url, headers=headers)\n",
    "\n",
    "if response.status_code == 200:\n",
    "    print(\"Response:\")\n",
    "    print(response.json())\n",
    "else:\n",
    "    print(\"Error:\", response.text)\n"
   ]
  },
  {
   "cell_type": "code",
   "execution_count": 13,
   "metadata": {},
   "outputs": [
    {
     "data": {
      "text/plain": [
       "{'id': '81451d40-c0fb-4524-9ef0-7b36f7b2cc50',\n",
       " 'created': '2025-02-10T23:19:24.348623Z',\n",
       " 'last_accessed': '2025-02-16T16:12:25.350912Z',\n",
       " 'iban': 'GB46NWBK60026010327118',\n",
       " 'institution_id': 'NATWEST_NWBKGB2L',\n",
       " 'status': 'READY',\n",
       " 'owner_name': 'CRESCENT ADVISORS LT',\n",
       " 'bban': '60026010327118'}"
      ]
     },
     "execution_count": 13,
     "metadata": {},
     "output_type": "execute_result"
    }
   ],
   "source": [
    "response.json()"
   ]
  },
  {
   "cell_type": "code",
   "execution_count": 5,
   "metadata": {},
   "outputs": [],
   "source": [
    "import pandas as pd\n",
    "from datetime import datetime\n",
    "\n",
    "def get_transactions_for_account(account_id, access_token):\n",
    "    \"\"\"Fetch transactions for a single account\"\"\"\n",
    "    url = f\"https://bankaccountdata.gocardless.com/api/v2/accounts/{account_id}/transactions/\"\n",
    "    headers = {\n",
    "        \"accept\": \"application/json\",\n",
    "        \"Authorization\": f\"Bearer {access_token}\"\n",
    "    }\n",
    "    \n",
    "    response = requests.get(url, headers=headers)\n",
    "    response.raise_for_status()\n",
    "    return response.json()['transactions']['booked']\n",
    "\n",
    "# # Process each bank's accounts\n",
    "# for bank_name, accounts in {\n",
    "#     'natwest': natwest_accounts,\n",
    "#     'barclays': barclays_accounts\n",
    "# }.items():\n",
    "#     # Process each account for this bank\n",
    "#     for account_id in accounts:\n",
    "#         try:\n",
    "#             # Get transactions\n",
    "#             transactions = get_transactions_for_account(account_id, access_token)\n",
    "            \n",
    "#             # Convert to DataFrame\n",
    "#             df = pd.DataFrame(transactions)\n",
    "            \n",
    "#             # Generate filename using bank name and last 3 chars of account_id\n",
    "#             filename = f\"{bank_name}_{account_id}.csv\"\n",
    "            \n",
    "#             # Save to CSV\n",
    "#             df.to_csv(filename, index=False)\n",
    "#             print(f\"Successfully saved {len(transactions)} transactions to {filename}\")\n",
    "            \n",
    "#         except Exception as e:\n",
    "#             print(f\"Error processing account {account_id}: {str(e)}\")"
   ]
  },
  {
   "cell_type": "code",
   "execution_count": null,
   "metadata": {},
   "outputs": [],
   "source": []
  },
  {
   "cell_type": "code",
   "execution_count": null,
   "metadata": {},
   "outputs": [],
   "source": [
    "transactions = get_transactions_for_account(natwest_accounts[0], access_token)\n",
    "\n",
    "# Convert to DataFrame\n",
    "df = pd.DataFrame(transactions)\n",
    "\n",
    "# Generate filename using bank name and last 3 chars of account_id\n",
    "filename = f\"natwest_{natwest_accounts[0][:-3]}.csv\"\n",
    "\n",
    "# Save to CSV\n",
    "# df.to_csv(filename, index=False)\n",
    "print(f\"Successfully saved {len(transactions)} transactions to {filename}\")\n",
    "\n"
   ]
  }
 ],
 "metadata": {
  "kernelspec": {
   "display_name": "venv",
   "language": "python",
   "name": "python3"
  },
  "language_info": {
   "codemirror_mode": {
    "name": "ipython",
    "version": 3
   },
   "file_extension": ".py",
   "mimetype": "text/x-python",
   "name": "python",
   "nbconvert_exporter": "python",
   "pygments_lexer": "ipython3",
   "version": "3.11.11"
  }
 },
 "nbformat": 4,
 "nbformat_minor": 2
}
